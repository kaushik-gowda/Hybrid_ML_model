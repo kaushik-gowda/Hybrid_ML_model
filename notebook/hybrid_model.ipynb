{
 "cells": [
  {
   "cell_type": "code",
   "execution_count": null,
   "id": "2cae6c07",
   "metadata": {
    "vscode": {
     "languageId": "plaintext"
    }
   },
   "outputs": [],
   "source": [
    "import pandas as pd\n",
    "import numpy as np\n",
    "from sklearn.preprocessing import MinMaxScaler\n",
    "from sklearn.linear_model import LinearRegression\n",
    "from tensorflow.keras.models import Sequential\n",
    "from tensorflow.keras.layers import LSTM, Dense"
   ]
  },
  {
   "cell_type": "code",
   "execution_count": null,
   "id": "565cdca7",
   "metadata": {
    "vscode": {
     "languageId": "plaintext"
    }
   },
   "outputs": [],
   "source": [
    "data = pd.read_csv('data/apple_stock_data.csv')"
   ]
  },
  {
   "cell_type": "code",
   "execution_count": null,
   "id": "d39a1ce7",
   "metadata": {
    "vscode": {
     "languageId": "plaintext"
    }
   },
   "outputs": [],
   "source": [
    "print(data.head())"
   ]
  },
  {
   "cell_type": "code",
   "execution_count": null,
   "id": "b0c48fa3",
   "metadata": {
    "vscode": {
     "languageId": "plaintext"
    }
   },
   "outputs": [],
   "source": [
    "data['Date'] = pd.to_datetime(data['Date'])\n",
    "data.set_index('Date', inplace=True)\n",
    "data = data[['Close']]"
   ]
  },
  {
   "cell_type": "code",
   "execution_count": null,
   "id": "51622c85",
   "metadata": {
    "vscode": {
     "languageId": "plaintext"
    }
   },
   "outputs": [],
   "source": [
    "scaler = MinMaxScaler(feature_range=(0, 1))\n",
    "data['Close'] = scaler.fit_transform(data[['Close']])"
   ]
  },
  {
   "cell_type": "code",
   "execution_count": null,
   "id": "a6e362b2",
   "metadata": {
    "vscode": {
     "languageId": "plaintext"
    }
   },
   "outputs": [],
   "source": [
    "def create_sequences(data, seq_length=60):\n",
    "    X, y = [], []\n",
    "    for i in range(len(data) - seq_length):\n",
    "        X.append(data[i:i+seq_length])\n",
    "        y.append(data[i+seq_length])\n",
    "    return np.array(X), np.array(y)\n",
    "\n",
    "seq_length = 60\n",
    "X, y = create_sequences(data['Close'].values, seq_length)"
   ]
  },
  {
   "cell_type": "code",
   "execution_count": null,
   "id": "4567feac",
   "metadata": {
    "vscode": {
     "languageId": "plaintext"
    }
   },
   "outputs": [],
   "source": [
    "train_size = int(len(X) * 0.8)\n",
    "X_train, X_test = X[:train_size], X[train_size:]\n",
    "y_train, y_test = y[:train_size], y[train_size:]"
   ]
  },
  {
   "cell_type": "code",
   "execution_count": null,
   "id": "d8a15d6e",
   "metadata": {
    "vscode": {
     "languageId": "plaintext"
    }
   },
   "outputs": [],
   "source": [
    "lstm_model = Sequential()\n",
    "lstm_model.add(LSTM(units=50, return_sequences=True, input_shape=(X_train.shape[1], 1)))\n",
    "lstm_model.add(LSTM(units=50))\n",
    "lstm_model.add(Dense(1))"
   ]
  },
  {
   "cell_type": "code",
   "execution_count": null,
   "id": "72da4577",
   "metadata": {
    "vscode": {
     "languageId": "plaintext"
    }
   },
   "outputs": [],
   "source": [
    "lstm_model.compile(optimizer='adam', loss='mean_squared_error')\n",
    "lstm_model.fit(X_train, y_train, epochs=20, batch_size=32)"
   ]
  },
  {
   "cell_type": "code",
   "execution_count": null,
   "id": "7acb3215",
   "metadata": {
    "vscode": {
     "languageId": "plaintext"
    }
   },
   "outputs": [],
   "source": [
    "data['Lag_1'] = data['Close'].shift(1)\n",
    "data['Lag_2'] = data['Close'].shift(2)\n",
    "data['Lag_3'] = data['Close'].shift(3)\n",
    "data = data.dropna()"
   ]
  },
  {
   "cell_type": "code",
   "execution_count": null,
   "id": "1e4b8547",
   "metadata": {
    "vscode": {
     "languageId": "plaintext"
    }
   },
   "outputs": [],
   "source": [
    "X_lin = data[['Lag_1', 'Lag_2', 'Lag_3']]\n",
    "y_lin = data['Close']\n",
    "X_train_lin, X_test_lin = X_lin[:train_size], X_lin[train_size:]\n",
    "y_train_lin, y_test_lin = y_lin[:train_size], y_lin[train_size:]"
   ]
  },
  {
   "cell_type": "code",
   "execution_count": null,
   "id": "d205352d",
   "metadata": {
    "vscode": {
     "languageId": "plaintext"
    }
   },
   "outputs": [],
   "source": [
    "lin_model = LinearRegression()\n",
    "lin_model.fit(X_train_lin, y_train_lin)"
   ]
  },
  {
   "cell_type": "code",
   "execution_count": null,
   "id": "880bffdf",
   "metadata": {
    "vscode": {
     "languageId": "plaintext"
    }
   },
   "outputs": [],
   "source": [
    "X_test_lstm = X_test.reshape((X_test.shape[0], X_test.shape[1], 1))\n",
    "lstm_predictions = lstm_model.predict(X_test_lstm)\n",
    "lstm_predictions = scaler.inverse_transform(lstm_predictions)"
   ]
  },
  {
   "cell_type": "code",
   "execution_count": null,
   "id": "fc4828e1",
   "metadata": {
    "vscode": {
     "languageId": "plaintext"
    }
   },
   "outputs": [],
   "source": [
    "lin_predictions = lin_model.predict(X_test_lin)\n",
    "lin_predictions = scaler.inverse_transform(lin_predictions.reshape(-1, 1))"
   ]
  },
  {
   "cell_type": "code",
   "execution_count": null,
   "id": "6e77f47b",
   "metadata": {
    "vscode": {
     "languageId": "plaintext"
    }
   },
   "outputs": [],
   "source": [
    "hybrid_predictions = (0.7 * lstm_predictions) + (0.3 * lin_predictions)"
   ]
  },
  {
   "cell_type": "code",
   "execution_count": null,
   "id": "e7a4a8da",
   "metadata": {
    "vscode": {
     "languageId": "plaintext"
    }
   },
   "outputs": [],
   "source": [
    "lstm_future_predictions = []\n",
    "last_sequence = X[-1].reshape(1, seq_length, 1)\n",
    "for _ in range(10):\n",
    "    lstm_pred = lstm_model.predict(last_sequence)[0, 0]\n",
    "    lstm_future_predictions.append(lstm_pred)\n",
    "    lstm_pred_reshaped = np.array([[lstm_pred]]).reshape(1, 1, 1)\n",
    "    last_sequence = np.append(last_sequence[:, 1:, :], lstm_pred_reshaped, axis=1)\n",
    "lstm_future_predictions = scaler.inverse_transform(np.array(lstm_future_predictions).reshape(-1, 1))"
   ]
  },
  {
   "cell_type": "code",
   "execution_count": null,
   "id": "5767e4c0",
   "metadata": {
    "vscode": {
     "languageId": "plaintext"
    }
   },
   "outputs": [],
   "source": [
    "recent_data = data['Close'].values[-3:]\n",
    "lin_future_predictions = []\n",
    "for _ in range(10):\n",
    "    lin_pred = lin_model.predict(recent_data.reshape(1, -1))[0]\n",
    "    lin_future_predictions.append(lin_pred)\n",
    "    recent_data = np.append(recent_data[1:], lin_pred)\n",
    "lin_future_predictions = scaler.inverse_transform(np.array(lin_future_predictions).reshape(-1, 1))"
   ]
  },
  {
   "cell_type": "code",
   "execution_count": null,
   "id": "f6aa5089",
   "metadata": {
    "vscode": {
     "languageId": "plaintext"
    }
   },
   "outputs": [],
   "source": [
    "hybrid_future_predictions = (0.7 * lstm_future_predictions) + (0.3 * lin_future_predictions)"
   ]
  },
  {
   "cell_type": "code",
   "execution_count": null,
   "id": "c2ac10c8",
   "metadata": {
    "vscode": {
     "languageId": "plaintext"
    }
   },
   "outputs": [],
   "source": [
    "future_dates = pd.date_range(start=data.index[-1] + pd.Timedelta(days=1), periods=10)\n",
    "predictions_df = pd.DataFrame({\n",
    "    'Date': future_dates,\n",
    "    'LSTM Predictions': lstm_future_predictions.flatten(),\n",
    "    'Linear Regression Predictions': lin_future_predictions.flatten(),\n",
    "    'Hybrid Model Predictions': hybrid_future_predictions.flatten()\n",
    "})\n",
    "print(predictions_df)"
   ]
  },
  {
   "cell_type": "code",
   "execution_count": null,
   "id": "a4578e00",
   "metadata": {
    "vscode": {
     "languageId": "plaintext"
    }
   },
   "outputs": [],
   "source": []
  },
  {
   "cell_type": "code",
   "execution_count": null,
   "id": "f88335e6",
   "metadata": {
    "vscode": {
     "languageId": "plaintext"
    }
   },
   "outputs": [],
   "source": []
  },
  {
   "cell_type": "code",
   "execution_count": null,
   "id": "2b9edeab",
   "metadata": {
    "vscode": {
     "languageId": "plaintext"
    }
   },
   "outputs": [],
   "source": []
  }
 ],
 "metadata": {
  "language_info": {
   "name": "python"
  }
 },
 "nbformat": 4,
 "nbformat_minor": 5
}
